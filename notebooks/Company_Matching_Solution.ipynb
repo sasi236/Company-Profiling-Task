{
 "cells": [
  {
   "cell_type": "markdown",
   "id": "cd6ac286-b7d3-4e32-8857-cb9d077ebeb0",
   "metadata": {},
   "source": [
    "# CluedIn Final Task - Advanced Company Profiling and Data Validation\n",
    "\n",
    "## Notebook Outline:\n",
    "Step 0: Install Required Libraries\n",
    "Step 1: Import Libraries\n",
    "Step 2: Load Configuration\n",
    "Step 3: Start Execution Timer\n",
    "Step 4: Load Company Data\n",
    "Step 5: Clean Column Names and Values\n",
    "Step 6: Deduplicate Records\n",
    "Step 7: Define Matching Function\n",
    "Step 8: Perform Batch Matching\n",
    "Step 9: Assign Results to DataFrame\n",
    "Step 10: Filter and Save Unmatched and Duplicate Records\n",
    "Step 11: Summary Stats\n",
    "Step 12: Export Enriched Data\n",
    "Step 12: Visualize Results\n",
    "Step 13: Print Total Time Taken"
   ]
  },
  {
   "cell_type": "markdown",
   "id": "d88b63e7-bb90-4fbb-87d1-6076aa6cbef9",
   "metadata": {},
   "source": [
    "Step 0: Install Required Libraries"
   ]
  },
  {
   "cell_type": "code",
   "execution_count": 32,
   "id": "62598fe2-300a-4346-898b-77dac4e4a1b5",
   "metadata": {},
   "outputs": [
    {
     "name": "stdout",
     "output_type": "stream",
     "text": [
      "Requirement already satisfied: pandas in c:\\users\\kumar\\appdata\\local\\programs\\python\\python312\\lib\\site-packages (2.2.3)\n",
      "Requirement already satisfied: numpy in c:\\users\\kumar\\appdata\\local\\programs\\python\\python312\\lib\\site-packages (2.2.5)\n",
      "Requirement already satisfied: matplotlib in c:\\users\\kumar\\appdata\\local\\programs\\python\\python312\\lib\\site-packages (3.10.1)\n",
      "Requirement already satisfied: seaborn in c:\\users\\kumar\\appdata\\local\\programs\\python\\python312\\lib\\site-packages (0.13.2)\n",
      "Requirement already satisfied: requests in c:\\users\\kumar\\appdata\\local\\programs\\python\\python312\\lib\\site-packages (2.32.3)\n",
      "Requirement already satisfied: tqdm in c:\\users\\kumar\\appdata\\local\\programs\\python\\python312\\lib\\site-packages (4.67.1)\n",
      "Requirement already satisfied: python-dateutil>=2.8.2 in c:\\users\\kumar\\appdata\\local\\programs\\python\\python312\\lib\\site-packages (from pandas) (2.9.0.post0)\n",
      "Requirement already satisfied: pytz>=2020.1 in c:\\users\\kumar\\appdata\\local\\programs\\python\\python312\\lib\\site-packages (from pandas) (2025.2)\n",
      "Requirement already satisfied: tzdata>=2022.7 in c:\\users\\kumar\\appdata\\local\\programs\\python\\python312\\lib\\site-packages (from pandas) (2025.2)\n",
      "Requirement already satisfied: contourpy>=1.0.1 in c:\\users\\kumar\\appdata\\local\\programs\\python\\python312\\lib\\site-packages (from matplotlib) (1.3.2)\n",
      "Requirement already satisfied: cycler>=0.10 in c:\\users\\kumar\\appdata\\local\\programs\\python\\python312\\lib\\site-packages (from matplotlib) (0.12.1)\n",
      "Requirement already satisfied: fonttools>=4.22.0 in c:\\users\\kumar\\appdata\\local\\programs\\python\\python312\\lib\\site-packages (from matplotlib) (4.57.0)\n",
      "Requirement already satisfied: kiwisolver>=1.3.1 in c:\\users\\kumar\\appdata\\local\\programs\\python\\python312\\lib\\site-packages (from matplotlib) (1.4.8)\n",
      "Requirement already satisfied: packaging>=20.0 in c:\\users\\kumar\\appdata\\local\\programs\\python\\python312\\lib\\site-packages (from matplotlib) (25.0)\n",
      "Requirement already satisfied: pillow>=8 in c:\\users\\kumar\\appdata\\local\\programs\\python\\python312\\lib\\site-packages (from matplotlib) (11.2.1)\n",
      "Requirement already satisfied: pyparsing>=2.3.1 in c:\\users\\kumar\\appdata\\local\\programs\\python\\python312\\lib\\site-packages (from matplotlib) (3.2.3)\n",
      "Requirement already satisfied: charset-normalizer<4,>=2 in c:\\users\\kumar\\appdata\\local\\programs\\python\\python312\\lib\\site-packages (from requests) (3.4.1)\n",
      "Requirement already satisfied: idna<4,>=2.5 in c:\\users\\kumar\\appdata\\local\\programs\\python\\python312\\lib\\site-packages (from requests) (3.10)\n",
      "Requirement already satisfied: urllib3<3,>=1.21.1 in c:\\users\\kumar\\appdata\\local\\programs\\python\\python312\\lib\\site-packages (from requests) (2.4.0)\n",
      "Requirement already satisfied: certifi>=2017.4.17 in c:\\users\\kumar\\appdata\\local\\programs\\python\\python312\\lib\\site-packages (from requests) (2025.1.31)\n",
      "Requirement already satisfied: colorama in c:\\users\\kumar\\appdata\\local\\programs\\python\\python312\\lib\\site-packages (from tqdm) (0.4.6)\n",
      "Requirement already satisfied: six>=1.5 in c:\\users\\kumar\\appdata\\local\\programs\\python\\python312\\lib\\site-packages (from python-dateutil>=2.8.2->pandas) (1.17.0)\n"
     ]
    }
   ],
   "source": [
    "!pip install pandas numpy matplotlib seaborn requests tqdm"
   ]
  },
  {
   "cell_type": "markdown",
   "id": "71bc19d8-7738-461c-ac8d-dc44b56d299a",
   "metadata": {},
   "source": [
    "Step 1: Import Libraries"
   ]
  },
  {
   "cell_type": "code",
   "execution_count": 33,
   "id": "4b9200c4-1c79-43b3-a189-f0cedc37459e",
   "metadata": {},
   "outputs": [],
   "source": [
    "import pandas as pd\n",
    "import numpy as np\n",
    "import requests\n",
    "import time\n",
    "import os\n",
    "from tqdm import tqdm\n",
    "import matplotlib.pyplot as plt\n",
    "import seaborn as sns"
   ]
  },
  {
   "cell_type": "markdown",
   "id": "4463da70-d191-4733-b753-7c4e7c4e1281",
   "metadata": {},
   "source": [
    "Step 2: Load Configuration"
   ]
  },
  {
   "cell_type": "code",
   "execution_count": 34,
   "id": "45ae201c-2a5c-4cd0-85e2-400295b79787",
   "metadata": {},
   "outputs": [
    {
     "name": "stdout",
     "output_type": "stream",
     "text": [
      "Configuration loaded successfully.\n"
     ]
    }
   ],
   "source": [
    "config_path = r\"C:\\Users\\kumar\\Downloads\\Configuration.csv\"\n",
    "\n",
    "try:\n",
    "    config_df = pd.read_csv(config_path)\n",
    "    config = config_df.squeeze(\"columns\") if len(config_df.columns) == 1 else config_df.iloc[0]\n",
    "\n",
    "    input_file = config[\"input_file\"]\n",
    "    output_file = config[\"output_file\"]\n",
    "    output_chart_dir = config[\"output_chart_dir\"]\n",
    "    batch_size = int(config[\"batch_size\"])\n",
    "    api_delay = float(config[\"api_delay\"])\n",
    "    API_BASE_URL = config[\"API_BASE_URL\"]\n",
    "    API_KEY = config[\"API_KEY\"]\n",
    "\n",
    "    print(\"Configuration loaded successfully.\")\n",
    "except Exception as e:\n",
    "    print(\"Error loading configuration:\", e)\n",
    "    raise"
   ]
  },
  {
   "cell_type": "markdown",
   "id": "25801062-7c1e-43ba-a1ae-889f0b38de5e",
   "metadata": {},
   "source": [
    "Step 3: Start Execution Timer"
   ]
  },
  {
   "cell_type": "code",
   "execution_count": 35,
   "id": "99abff5a-ad38-47ae-a8c2-9c04ae962e66",
   "metadata": {},
   "outputs": [],
   "source": [
    "start_time = time.time()"
   ]
  },
  {
   "cell_type": "markdown",
   "id": "9e773d85-87cb-48b5-ae36-0a33f86918fc",
   "metadata": {},
   "source": [
    "Step 4: Load Company Data"
   ]
  },
  {
   "cell_type": "code",
   "execution_count": 36,
   "id": "a810820f-0b99-4786-81d2-0b0d10cbb68f",
   "metadata": {},
   "outputs": [
    {
     "name": "stdout",
     "output_type": "stream",
     "text": [
      "\n",
      "Loading data from: C:\\Users\\kumar\\Downloads\\Company.csv\n",
      "Original shape: (307, 55)\n"
     ]
    }
   ],
   "source": [
    "print(\"\\nLoading data from:\", input_file)\n",
    "df = pd.read_csv(input_file)\n",
    "print(\"Original shape:\", df.shape)"
   ]
  },
  {
   "cell_type": "markdown",
   "id": "045600a6-013e-4032-8fde-2286723612b4",
   "metadata": {},
   "source": [
    "Step 5: Clean Column Names and Values"
   ]
  },
  {
   "cell_type": "code",
   "execution_count": 37,
   "id": "e4dd4b5f-2ed6-4407-9581-fc426791fe9a",
   "metadata": {},
   "outputs": [],
   "source": [
    "df.columns = df.columns.str.strip()\n",
    "df['CompanyName'] = df['CompanyName'].astype(str).str.strip().str.title()\n",
    "if 'CompanyNumber' not in df.columns:\n",
    "    print(\"Error: 'CompanyNumber' column is missing from the dataset.\")\n",
    "else:\n",
    "    df['CompanyNumber'] = df['CompanyNumber'].astype(str).str.strip().replace('', np.nan)"
   ]
  },
  {
   "cell_type": "markdown",
   "id": "9942c1a3-d409-4682-a949-5d1d5f57610a",
   "metadata": {},
   "source": [
    "Step 6: Deduplicate Records"
   ]
  },
  {
   "cell_type": "code",
   "execution_count": 38,
   "id": "ca4b1be4-1113-4118-9812-96d7000bdd1e",
   "metadata": {},
   "outputs": [
    {
     "name": "stdout",
     "output_type": "stream",
     "text": [
      "Deduplicated shape: (302, 55)\n"
     ]
    }
   ],
   "source": [
    "df_unique = df.drop_duplicates(subset=['CompanyName', 'RegAddress.PostCode']).copy()\n",
    "duplicates = df[df.duplicated(subset=['CompanyName', 'RegAddress.PostCode'], keep=False)]  # Capture duplicate records\n",
    "print(\"Deduplicated shape:\", df_unique.shape)"
   ]
  },
  {
   "cell_type": "markdown",
   "id": "55d7e4a5-6979-4323-8ad7-8aef7a9e044e",
   "metadata": {},
   "source": [
    "Step 7: Define Matching Function"
   ]
  },
  {
   "cell_type": "code",
   "execution_count": 39,
   "id": "b988d082-6fca-45c7-8ed4-06e3261ebe2b",
   "metadata": {},
   "outputs": [],
   "source": [
    "def match_company_name_hybrid(company_name, local_company_number=None):\n",
    "    try:\n",
    "        response = requests.get(\n",
    "            API_BASE_URL,\n",
    "            params={'q': company_name},\n",
    "            auth=(API_KEY, '')\n",
    "        )\n",
    "        if response.status_code == 200:\n",
    "            data = response.json()\n",
    "            if 'items' in data and len(data['items']) > 0:\n",
    "                best_match = data['items'][0]\n",
    "                match_company_number = best_match.get(\"company_number\", None)\n",
    "                match_name = best_match.get(\"title\", None)\n",
    "                confidence = best_match.get(\"matches\", {}).get(\"title\", [0])[0]\n",
    "\n",
    "                if local_company_number and local_company_number == match_company_number:\n",
    "                    match_status = \"Exact match\"\n",
    "                    matched = True\n",
    "                elif company_name.lower() == match_name.lower():\n",
    "                    match_status = \"Name match only\"\n",
    "                    matched = True\n",
    "                else:\n",
    "                    match_status = \"Name match only\" if not local_company_number or local_company_number != match_company_number else \"No match\"\n",
    "                    matched = match_status != \"No match\"\n",
    "\n",
    "                return {\n",
    "                    \"matched\": matched,\n",
    "                    \"match_status\": match_status,\n",
    "                    \"matched_name\": match_name,\n",
    "                    \"company_number\": match_company_number,\n",
    "                    \"company_status\": best_match.get(\"company_status\", None),\n",
    "                    \"address\": best_match.get(\"address_snippet\", None),\n",
    "                    \"match_confidence\": confidence\n",
    "                }\n",
    "    except Exception as e:\n",
    "        print(f\" Error matching '{company_name}': {e}\")\n",
    "    return {\n",
    "        \"matched\": False,\n",
    "        \"match_status\": \"No match\",\n",
    "        \"matched_name\": None,\n",
    "        \"company_number\": None,\n",
    "        \"company_status\": None,\n",
    "        \"address\": None,\n",
    "        \"match_confidence\": None\n",
    "    }"
   ]
  },
  {
   "cell_type": "markdown",
   "id": "44e8569f-57b8-4880-a091-1785d4717fbc",
   "metadata": {},
   "source": [
    "Step 8: Perform Batch Matching"
   ]
  },
  {
   "cell_type": "code",
   "execution_count": 40,
   "id": "567b3b12-a51b-428a-8f48-e23d97d4d4d0",
   "metadata": {},
   "outputs": [
    {
     "name": "stdout",
     "output_type": "stream",
     "text": [
      "\n",
      "Starting hybrid company matching...\n"
     ]
    },
    {
     "name": "stderr",
     "output_type": "stream",
     "text": [
      "  9%|█████████████▊                                                                                                                                          | 1/11 [00:15<02:38, 15.85s/it]"
     ]
    },
    {
     "name": "stdout",
     "output_type": "stream",
     "text": [
      " Processed: 30/302 | Batch Time: 15.85s\n"
     ]
    },
    {
     "name": "stderr",
     "output_type": "stream",
     "text": [
      " 18%|███████████████████████████▋                                                                                                                            | 2/11 [00:31<02:23, 15.98s/it]"
     ]
    },
    {
     "name": "stdout",
     "output_type": "stream",
     "text": [
      " Processed: 60/302 | Batch Time: 16.07s\n"
     ]
    },
    {
     "name": "stderr",
     "output_type": "stream",
     "text": [
      " 27%|█████████████████████████████████████████▍                                                                                                              | 3/11 [00:45<02:00, 15.06s/it]"
     ]
    },
    {
     "name": "stdout",
     "output_type": "stream",
     "text": [
      " Processed: 90/302 | Batch Time: 13.97s\n"
     ]
    },
    {
     "name": "stderr",
     "output_type": "stream",
     "text": [
      " 36%|███████████████████████████████████████████████████████▎                                                                                                | 4/11 [01:02<01:49, 15.59s/it]"
     ]
    },
    {
     "name": "stdout",
     "output_type": "stream",
     "text": [
      " Processed: 120/302 | Batch Time: 16.4s\n"
     ]
    },
    {
     "name": "stderr",
     "output_type": "stream",
     "text": [
      " 45%|█████████████████████████████████████████████████████████████████████                                                                                   | 5/11 [01:18<01:35, 15.91s/it]"
     ]
    },
    {
     "name": "stdout",
     "output_type": "stream",
     "text": [
      " Processed: 150/302 | Batch Time: 16.49s\n"
     ]
    },
    {
     "name": "stderr",
     "output_type": "stream",
     "text": [
      " 55%|██████████████████████████████████████████████████████████████████████████████████▉                                                                     | 6/11 [01:32<01:16, 15.22s/it]"
     ]
    },
    {
     "name": "stdout",
     "output_type": "stream",
     "text": [
      " Processed: 180/302 | Batch Time: 13.87s\n"
     ]
    },
    {
     "name": "stderr",
     "output_type": "stream",
     "text": [
      " 64%|████████████████████████████████████████████████████████████████████████████████████████████████▋                                                       | 7/11 [01:49<01:02, 15.75s/it]"
     ]
    },
    {
     "name": "stdout",
     "output_type": "stream",
     "text": [
      " Processed: 210/302 | Batch Time: 16.84s\n"
     ]
    },
    {
     "name": "stderr",
     "output_type": "stream",
     "text": [
      " 73%|██████████████████████████████████████████████████████████████████████████████████████████████████████████████▌                                         | 8/11 [02:06<00:48, 16.02s/it]"
     ]
    },
    {
     "name": "stdout",
     "output_type": "stream",
     "text": [
      " Processed: 240/302 | Batch Time: 16.59s\n"
     ]
    },
    {
     "name": "stderr",
     "output_type": "stream",
     "text": [
      " 82%|████████████████████████████████████████████████████████████████████████████████████████████████████████████████████████████▎                           | 9/11 [02:24<00:33, 16.79s/it]"
     ]
    },
    {
     "name": "stdout",
     "output_type": "stream",
     "text": [
      " Processed: 270/302 | Batch Time: 18.47s\n"
     ]
    },
    {
     "name": "stderr",
     "output_type": "stream",
     "text": [
      " 91%|█████████████████████████████████████████████████████████████████████████████████████████████████████████████████████████████████████████▎             | 10/11 [02:39<00:16, 16.09s/it]"
     ]
    },
    {
     "name": "stdout",
     "output_type": "stream",
     "text": [
      " Processed: 300/302 | Batch Time: 14.54s\n"
     ]
    },
    {
     "name": "stderr",
     "output_type": "stream",
     "text": [
      "100%|███████████████████████████████████████████████████████████████████████████████████████████████████████████████████████████████████████████████████████| 11/11 [02:40<00:00, 14.55s/it]"
     ]
    },
    {
     "name": "stdout",
     "output_type": "stream",
     "text": [
      " Processed: 330/302 | Batch Time: 0.94s\n"
     ]
    },
    {
     "name": "stderr",
     "output_type": "stream",
     "text": [
      "\n"
     ]
    }
   ],
   "source": [
    "print(\"\\nStarting hybrid company matching...\")\n",
    "matched_results = []\n",
    "for i in tqdm(range(0, len(df_unique), batch_size)):\n",
    "    batch_start_time = time.time()\n",
    "    batch = df_unique.iloc[i:i + batch_size]\n",
    "    for _, row in batch.iterrows():\n",
    "        name = row['CompanyName']\n",
    "        number = row.get('CompanyNumber', None)\n",
    "        # print(f\" Matching: {name}\") # Enable this statement if need for tracking/logs\n",
    "        result = match_company_name_hybrid(name, number)\n",
    "        matched_results.append(result)\n",
    "        time.sleep(api_delay)\n",
    "    batch_end_time = time.time()\n",
    "    print(f\" Processed: {i + batch_size}/{len(df_unique)} | Batch Time: {round(batch_end_time - batch_start_time, 2)}s\")"
   ]
  },
  {
   "cell_type": "markdown",
   "id": "0aa1da90-9950-4965-a685-3b387fbdf690",
   "metadata": {},
   "source": [
    "Step 9: Assign Results to DataFrame"
   ]
  },
  {
   "cell_type": "code",
   "execution_count": 41,
   "id": "87078c91-a28a-4dd8-9606-7822fae0425f",
   "metadata": {},
   "outputs": [
    {
     "name": "stdout",
     "output_type": "stream",
     "text": [
      "\n",
      "Assigning matched results...\n"
     ]
    }
   ],
   "source": [
    "print(\"\\nAssigning matched results...\")\n",
    "df_unique[\"Matched\"] = [\"Yes\" if res[\"matched\"] else \"No\" for res in matched_results]\n",
    "df_unique[\"MatchStatus\"] = [res[\"match_status\"] for res in matched_results]\n",
    "df_unique[\"MatchedName\"] = [res[\"matched_name\"] for res in matched_results]\n",
    "df_unique[\"MatchedCompanyNumber\"] = [res[\"company_number\"] for res in matched_results]\n",
    "df_unique[\"CompanyStatus\"] = [res[\"company_status\"] for res in matched_results]\n",
    "df_unique[\"AddressSnippet\"] = [res[\"address\"] for res in matched_results]\n",
    "df_unique[\"MatchConfidence\"] = [res[\"match_confidence\"] for res in matched_results]"
   ]
  },
  {
   "cell_type": "markdown",
   "id": "10f66fc2-707a-4839-bd52-371452f89b5a",
   "metadata": {},
   "source": [
    "Step 10: Filter and Save Unmatched and Duplicate Records"
   ]
  },
  {
   "cell_type": "code",
   "execution_count": 42,
   "id": "d74cdaa5-0198-49d5-b56d-e842cb345925",
   "metadata": {},
   "outputs": [
    {
     "name": "stdout",
     "output_type": "stream",
     "text": [
      "Unmatched records count: 1\n",
      "Duplicate records saved to: C:\\Users\\kumar\\Downloads\\duplicate_records.csv\n",
      "Unmatched records saved to: C:\\Users\\kumar\\Downloads\\unmatched_records.csv\n"
     ]
    }
   ],
   "source": [
    "unmatched = df_unique[df_unique[\"Matched\"] == \"No\"]\n",
    "print(f\"Unmatched records count: {unmatched.shape[0]}\")\n",
    "downloads_folder = r'C:\\Users\\kumar\\Downloads'\n",
    "duplicates_file = os.path.join(downloads_folder, 'duplicate_records.csv')\n",
    "unmatched_file = os.path.join(downloads_folder, 'unmatched_records.csv')\n",
    "duplicates.to_csv(duplicates_file, index=False)\n",
    "unmatched.to_csv(unmatched_file, index=False)\n",
    "print(\"Duplicate records saved to:\", duplicates_file)\n",
    "print(\"Unmatched records saved to:\", unmatched_file)"
   ]
  },
  {
   "cell_type": "markdown",
   "id": "b2de4120-8d9a-4c99-b55f-31466096aef8",
   "metadata": {},
   "source": [
    "Step 11: Summary Stats"
   ]
  },
  {
   "cell_type": "code",
   "execution_count": 43,
   "id": "f4987840-cc50-4dd9-b160-d092127f7691",
   "metadata": {},
   "outputs": [
    {
     "name": "stdout",
     "output_type": "stream",
     "text": [
      "\n",
      "Matching Summary:\n",
      "Matched\n",
      "Yes    301\n",
      "No       1\n",
      "Name: count, dtype: int64\n",
      "\n",
      "Match Status Breakdown:\n",
      "MatchStatus\n",
      "Exact match        92.38%\n",
      "Name match only     7.28%\n",
      "No match            0.33%\n",
      "Name: proportion, dtype: object\n"
     ]
    }
   ],
   "source": [
    "print(\"\\nMatching Summary:\")\n",
    "print(df_unique[\"Matched\"].value_counts())\n",
    "print(\"\\nMatch Status Breakdown:\")\n",
    "match_stats = df_unique[\"MatchStatus\"].value_counts(normalize=True).apply(lambda x: f\"{x:.2%}\")\n",
    "print(match_stats)"
   ]
  },
  {
   "cell_type": "markdown",
   "id": "b3b1ef26-e7ea-420d-9e56-c368970596f6",
   "metadata": {},
   "source": [
    "Step 12: Export Enriched Data"
   ]
  },
  {
   "cell_type": "code",
   "execution_count": 44,
   "id": "febfadd2-bc6a-44d3-876e-63c1a629eab7",
   "metadata": {},
   "outputs": [
    {
     "name": "stdout",
     "output_type": "stream",
     "text": [
      "\n",
      "Saving enriched results...\n",
      "File saved: C:\\Users\\kumar\\Downloads\\enriched_companies_output.csv\n"
     ]
    }
   ],
   "source": [
    "print(\"\\nSaving enriched results...\")\n",
    "df_unique.to_csv(output_file, index=False)\n",
    "print(\"File saved:\", output_file)"
   ]
  },
  {
   "cell_type": "markdown",
   "id": "a54913f9-f01e-4ec6-8f90-3fb333161db3",
   "metadata": {},
   "source": [
    "Step 12: Visualise Results"
   ]
  },
  {
   "cell_type": "code",
   "execution_count": 45,
   "id": "8fca8a65-d33c-4a62-b8de-d943ccb50769",
   "metadata": {},
   "outputs": [
    {
     "name": "stdout",
     "output_type": "stream",
     "text": [
      "\n",
      "Visualising match results and saving charts...\n"
     ]
    },
    {
     "data": {
      "image/png": "[encoded data removed]",
      "text/plain": [
       "<Figure size 800x500 with 1 Axes>"
      ]
     },
     "metadata": {},
     "output_type": "display_data"
    },
    {
     "name": "stdout",
     "output_type": "stream",
     "text": [
      "Bar chart saved to: C:\\Users\\kumar\\Downloads\\charts\\company_match_bar_chart.png\n"
     ]
    },
    {
     "data": {
      "image/png": "[encoded data removed]",
      "text/plain": [
       "<Figure size 600x600 with 1 Axes>"
      ]
     },
     "metadata": {},
     "output_type": "display_data"
    },
    {
     "name": "stdout",
     "output_type": "stream",
     "text": [
      "Pie chart saved to: C:\\Users\\kumar\\Downloads\\charts\\company_match_pie_chart.png\n"
     ]
    }
   ],
   "source": [
    "print(\"\\nVisualising match results and saving charts...\")\n",
    "\n",
    "status_colors = {\n",
    "    \"Exact match\": \"#4CAF50\",\n",
    "    \"Name match only\": \"#FFC107\",\n",
    "    \"No match\": \"#F44336\"\n",
    "}\n",
    "\n",
    "plt.figure(figsize=(8, 5))\n",
    "sns.countplot(\n",
    "    data=df_unique,\n",
    "    x=\"MatchStatus\",\n",
    "    hue=\"MatchStatus\",\n",
    "    palette=status_colors,\n",
    "    legend=False\n",
    ")\n",
    "plt.title(\"Company Match Status Breakdown (Bar Chart)\")\n",
    "plt.ylabel(\"Count\")\n",
    "plt.xticks(rotation=10)\n",
    "plt.tight_layout()\n",
    "\n",
    "bar_chart_path = os.path.join(output_chart_dir, \"company_match_bar_chart.png\")\n",
    "plt.savefig(bar_chart_path)\n",
    "plt.show()\n",
    "print(\"Bar chart saved to:\", bar_chart_path)\n",
    "\n",
    "plt.figure(figsize=(6, 6))\n",
    "match_counts = df_unique[\"MatchStatus\"].value_counts()\n",
    "plt.pie(\n",
    "    match_counts,\n",
    "    labels=match_counts.index,\n",
    "    autopct='%1.1f%%',\n",
    "    startangle=140,\n",
    "    colors=[status_colors[status] for status in match_counts.index]\n",
    ")\n",
    "plt.title(\"Company Match Status Breakdown (Pie Chart)\")\n",
    "plt.axis('equal')\n",
    "plt.tight_layout()\n",
    "\n",
    "pie_chart_path = os.path.join(output_chart_dir, \"company_match_pie_chart.png\")\n",
    "plt.savefig(pie_chart_path)\n",
    "plt.show()\n",
    "print(\"Pie chart saved to:\", pie_chart_path)"
   ]
  },
  {
   "cell_type": "markdown",
   "id": "3a121a50-7196-4f69-a46a-919a58fc0e68",
   "metadata": {},
   "source": [
    "Step 13: Print Total Time Taken"
   ]
  },
  {
   "cell_type": "code",
   "execution_count": 46,
   "id": "9615b562-f3c5-4087-b0b4-09ec2f4ffa64",
   "metadata": {},
   "outputs": [
    {
     "name": "stdout",
     "output_type": "stream",
     "text": [
      "\n",
      "Total time taken: 161.37 seconds\n"
     ]
    }
   ],
   "source": [
    "end_time = time.time()\n",
    "print(f\"\\nTotal time taken: {round(end_time - start_time, 2)} seconds\")"
   ]
  },
  {
   "cell_type": "code",
   "execution_count": null,
   "id": "0f0ef68c-c380-417a-8b58-fa7ce7535c97",
   "metadata": {},
   "outputs": [],
   "source": []
  }
 ],
 "metadata": {
  "kernelspec": {
   "display_name": "Python 3 (ipykernel)",
   "language": "python",
   "name": "python3"
  },
  "language_info": {
   "codemirror_mode": {
    "name": "ipython",
    "version": 3
   },
   "file_extension": ".py",
   "mimetype": "text/x-python",
   "name": "python",
   "nbconvert_exporter": "python",
   "pygments_lexer": "ipython3",
   "version": "3.12.2"
  }
 },
 "nbformat": 4,
 "nbformat_minor": 5
}
